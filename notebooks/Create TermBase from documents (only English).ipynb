{
 "cells": [
  {
   "cell_type": "code",
   "execution_count": null,
   "metadata": {},
   "outputs": [],
   "source": [
    "import sys\n",
    "import termate\n",
    "import nafigator\n",
    "import stanza\n",
    "import os\n",
    "import logging"
   ]
  },
  {
   "cell_type": "code",
   "execution_count": null,
   "metadata": {},
   "outputs": [],
   "source": [
    "logging.basicConfig(stream=sys.stdout,\n",
    "                    format='%(asctime)s %(message)s',\n",
    "                    level=logging.INFO)"
   ]
  },
  {
   "cell_type": "code",
   "execution_count": null,
   "metadata": {
    "scrolled": true
   },
   "outputs": [],
   "source": [
    "# termNotes = {\"normativeAuthorization\": \"regulatedTerm\", \n",
    "#              \"authoritative body\": \"European Union\"}\n",
    "termNotes = {}\n",
    "\n",
    "names = ['Solvency 2 Delegated Acts', \n",
    "         'European Climate Law', \n",
    "         'Sustainable Finance Disclosure Regulation']\n",
    "\n",
    "# create terms dictionary of subset of languages\n",
    "terms = {}\n",
    "\n",
    "for name in names:\n",
    "    for language in ['EN']: #['NL', 'EN', 'DE', 'FR']:\n",
    "        DOC_FILE = os.path.join(\"P:\", \"projects\", \"naf-data\", \"data\", \"legislation\", name, name+\" - \"+language+\".naf.xml\")\n",
    "        doc = nafigator.NafDocument().open(DOC_FILE)\n",
    "        termate.merge_terms_dict(terms, nafigator.extract_terms(doc, termNotes = termNotes))"
   ]
  },
  {
   "cell_type": "code",
   "execution_count": null,
   "metadata": {},
   "outputs": [],
   "source": [
    "name = \"YourTermBase\"\n",
    "\n",
    "# Create an empty TermBase\n",
    "t = termate.TbxDocument()\n",
    "t.generate(params = {\"sourceDesc\": \"TBX file, created via dnb/termate\"})"
   ]
  },
  {
   "cell_type": "code",
   "execution_count": null,
   "metadata": {},
   "outputs": [],
   "source": [
    "t.create_tbx_from_terms_dict(terms=terms, params = {'concept_id_prefix': 'dnb_'})\n",
    "t.write(os.path.join(\"P:\", \"projects\", \"tbx-data\", \"termbases\", name+\".tbx\"))"
   ]
  },
  {
   "cell_type": "code",
   "execution_count": null,
   "metadata": {
    "scrolled": true
   },
   "outputs": [],
   "source": [
    "# validation against the TBX-DNB dialect\n",
    "t = termate.TbxDocument().open(os.path.join(\"P:\", \"projects\", \"tbx-data\", \"termbases\", name+\".tbx\"))\n",
    "t.validate(validation_file=os.path.join(\"..\", \"data\", \"dialects\", \"TBX-DNB.rng\"))"
   ]
  },
  {
   "cell_type": "code",
   "execution_count": null,
   "metadata": {},
   "outputs": [],
   "source": [
    "# convert to Excel\n",
    "t = termate.TbxDocument().open(os.path.join(\"P:\", \"projects\", \"tbx-data\", \"termbases\", name+\".tbx\"))\n",
    "t.to_excel(os.path.join(\"P:\", \"projects\", \"tbx-data\", \"termbases\", name+\"_en.xlsx\"), languages=[\"en\"])"
   ]
  },
  {
   "cell_type": "code",
   "execution_count": null,
   "metadata": {},
   "outputs": [],
   "source": [
    "# convert to SKOS-RDF\n",
    "t = termate.TbxDocument().open(os.path.join(\"P:\", \"projects\", \"tbx-data\", \"termbases\", name+\".tbx\"))\n",
    "\n",
    "g = termate.parse2graph(t, params = {\"handlerPrefix\": \"dnb\",\n",
    "                                          \"handlerNamespace\": \"http://rdf.dnb.nl/taxonomies/\"})"
   ]
  },
  {
   "cell_type": "code",
   "execution_count": null,
   "metadata": {},
   "outputs": [],
   "source": [
    "# store graph in turtle format\n",
    "g.serialize(os.path.join(\"P:\", \"projects\", \"rdf-data\", \"taxonomies\", name+\".ttl\"), format = \"turtle\")\n",
    "\n",
    "# store graph in rdf/xml format\n",
    "g.serialize(os.path.join(\"P:\", \"projects\", \"rdf-data\", \"taxonomies\", name+\".rdf\"), format = \"xml\")"
   ]
  }
 ],
 "metadata": {
  "kernelspec": {
   "display_name": "Python 3",
   "language": "python",
   "name": "python3"
  },
  "language_info": {
   "codemirror_mode": {
    "name": "ipython",
    "version": 3
   },
   "file_extension": ".py",
   "mimetype": "text/x-python",
   "name": "python",
   "nbconvert_exporter": "python",
   "pygments_lexer": "ipython3",
   "version": "3.7.4"
  }
 },
 "nbformat": 4,
 "nbformat_minor": 4
}
