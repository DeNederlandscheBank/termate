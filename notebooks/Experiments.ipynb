{
 "cells": [
  {
   "cell_type": "code",
   "execution_count": null,
   "metadata": {},
   "outputs": [],
   "source": [
    "import sys\n",
    "import determinator\n",
    "import stanza\n",
    "import nafigator\n",
    "import os"
   ]
  },
  {
   "cell_type": "code",
   "execution_count": null,
   "metadata": {},
   "outputs": [],
   "source": [
    "# read the IATE file\n",
    "# IATE_FILE = os.path.join(\"..\", \"data\", \"iate\", \"IATE_export.tbx\")\n",
    "# ref = determinator.TbxDocument().open(IATE_FILE)"
   ]
  },
  {
   "cell_type": "code",
   "execution_count": null,
   "metadata": {
    "scrolled": true
   },
   "outputs": [],
   "source": [
    "# name = 'Solvency 2 Delegated Acts'\n",
    "# name = 'Sustainable Finance Disclosure Regulation'\n",
    "# name = 'European Climate Law'\n",
    "\n",
    "# t = determinator.TbxDocument()\n",
    "# t.open(os.path.join(\"..\", \"data\", \"termbases\", name+\".tbx\"))"
   ]
  },
  {
   "cell_type": "code",
   "execution_count": null,
   "metadata": {},
   "outputs": [],
   "source": [
    "# t.copy_from_tbx(reference=ref, prefix=\"IATE:\")\n",
    "# t.write(os.path.join(\"..\", \"data\", \"termbases\", name+\".tbx\"))"
   ]
  },
  {
   "cell_type": "code",
   "execution_count": null,
   "metadata": {},
   "outputs": [],
   "source": []
  },
  {
   "cell_type": "code",
   "execution_count": null,
   "metadata": {},
   "outputs": [],
   "source": [
    "name = \"legislation\"\n",
    "termbase = determinator.TbxDocument().open(os.path.join(\"..\", \"data\", \"termbases\", name+\".tbx\"))\n",
    "doc = nafigator.NafDocument().open(os.path.join(\"..\", \"..\", \"dnb-tutorials\", \"data\", \"external\", \"naf\", \"annual_report_dnb_2020.naf.xml\"))"
   ]
  },
  {
   "cell_type": "code",
   "execution_count": null,
   "metadata": {},
   "outputs": [],
   "source": [
    "# t.to_excel(os.path.join(\"..\", \"data\", \"termbases\", name+\".xlsx\"), languages=[\"en\", \"nl\"])"
   ]
  },
  {
   "cell_type": "code",
   "execution_count": null,
   "metadata": {
    "scrolled": true
   },
   "outputs": [],
   "source": [
    "nafigator.process_termbase(doc, termbase)"
   ]
  },
  {
   "cell_type": "code",
   "execution_count": null,
   "metadata": {},
   "outputs": [],
   "source": [
    "doc.entities[-1]"
   ]
  },
  {
   "cell_type": "code",
   "execution_count": null,
   "metadata": {},
   "outputs": [],
   "source": [
    "doc.terms[-1]"
   ]
  },
  {
   "cell_type": "code",
   "execution_count": null,
   "metadata": {},
   "outputs": [],
   "source": [
    "# terms = {}\n",
    "\n",
    "# path = \"..\\\\data\\\\obt\"\n",
    "# for files in os.listdir(path):\n",
    "#     if os.path.isfile(os.path.join(path, files)):\n",
    "#         if files[-3:]==\"xml\":\n",
    "#             doc = nafigator.NafDocument().open(os.path.join(path, files))\n",
    "#             merge_terms_dict(terms, nafigator.extract_terms(doc))"
   ]
  },
  {
   "cell_type": "code",
   "execution_count": null,
   "metadata": {
    "scrolled": true
   },
   "outputs": [],
   "source": [
    "# t = determinator.TbxDocument().open(\"..//data//solvency2_termbase.tbx\")\n",
    "# print(t.validate(validation_file=\"..\\\\data\\\\TBXcoreStructV03_TBX-Core_integrated.rng\"))"
   ]
  },
  {
   "cell_type": "code",
   "execution_count": null,
   "metadata": {},
   "outputs": [],
   "source": [
    "# t = determinator.TbxDocument().open(\"..//data//solvency2_termbase.tbx\")\n",
    "# print(t.validate(validation_file=\"..\\\\data\\\\TBXcoreStructV03_TBX-Basic_integrated.rng\"))"
   ]
  },
  {
   "cell_type": "code",
   "execution_count": null,
   "metadata": {},
   "outputs": [],
   "source": [
    "# t = determinator.TbxDocument().open(os.path.join(\"..\", \"data\", \"examples\", \"test.tbx\"))\n",
    "# t.validate(validation_file=\"..\\\\data\\\\dialects\\\\TBXcoreStructV03_TBX-Basic_integrated.rng\")"
   ]
  },
  {
   "cell_type": "code",
   "execution_count": null,
   "metadata": {},
   "outputs": [],
   "source": [
    "# name = 'European Climate Law'\n",
    "# t = determinator.TbxDocument().open(os.path.join(\"..\", \"data\", \"termbases\", name+\".tbx\"))\n",
    "# t.validate(validation_file=\"..\\\\data\\\\dialects\\\\TBXcoreStructV03_TBX-Basic_integrated.rng\")"
   ]
  },
  {
   "cell_type": "code",
   "execution_count": null,
   "metadata": {},
   "outputs": [],
   "source": []
  }
 ],
 "metadata": {
  "kernelspec": {
   "display_name": "Python 3",
   "language": "python",
   "name": "python3"
  },
  "language_info": {
   "codemirror_mode": {
    "name": "ipython",
    "version": 3
   },
   "file_extension": ".py",
   "mimetype": "text/x-python",
   "name": "python",
   "nbconvert_exporter": "python",
   "pygments_lexer": "ipython3",
   "version": "3.7.4"
  }
 },
 "nbformat": 4,
 "nbformat_minor": 4
}
