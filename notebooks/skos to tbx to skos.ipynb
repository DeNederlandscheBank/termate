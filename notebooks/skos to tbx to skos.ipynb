{
 "cells": [
  {
   "cell_type": "code",
   "execution_count": null,
   "id": "94380b4c",
   "metadata": {},
   "outputs": [],
   "source": [
    "import sys\n",
    "import termate\n",
    "import stanza\n",
    "import nafigator\n",
    "import os\n",
    "import rdflib"
   ]
  },
  {
   "cell_type": "code",
   "execution_count": null,
   "id": "4fd3c9a5",
   "metadata": {},
   "outputs": [],
   "source": [
    "g = rdflib.Graph()\n",
    "g.parse(\"P:\\\\projects\\\\rdf-data\\\\taxonomies\\\\cybersecurity-taxonomy-skos-ap-eu.rdf\")"
   ]
  },
  {
   "cell_type": "code",
   "execution_count": null,
   "id": "3e832a1c",
   "metadata": {},
   "outputs": [],
   "source": [
    "# g.serialize(\"P:\\\\projects\\\\rdf-data\\\\taxonomies\\\\cybersecurity-taxonomy-skos-ap-eu.ttl\", format=\"turtle\")"
   ]
  },
  {
   "cell_type": "code",
   "execution_count": null,
   "id": "c8fafb44",
   "metadata": {},
   "outputs": [],
   "source": [
    "# Create an empty TermBase\n",
    "t = termate.TbxDocument()\n",
    "t.generate(params = {\"sourceDesc\": \"TBX file, created via dnb/termate\"})"
   ]
  },
  {
   "cell_type": "code",
   "execution_count": null,
   "id": "6f6fca20",
   "metadata": {},
   "outputs": [],
   "source": [
    "termate.create_tbx(t, g)"
   ]
  },
  {
   "cell_type": "code",
   "execution_count": null,
   "id": "a44fc124",
   "metadata": {},
   "outputs": [],
   "source": [
    "t.write(\"P:\\\\projects\\\\tbx-data\\\\termbases\\\\cybersecurity-taxonomy-skos-ap-eu.tbx\")\n",
    "t = termate.TbxDocument().open(\"P:\\\\projects\\\\tbx-data\\\\termbases\\\\cybersecurity-taxonomy-skos-ap-eu.tbx\")"
   ]
  },
  {
   "cell_type": "code",
   "execution_count": null,
   "id": "fd5d424a",
   "metadata": {},
   "outputs": [],
   "source": [
    "t_graph = termate.parse2graph(t, \n",
    "            params = {\"handlerPrefix\": \"frc\",\n",
    "                      \"handlerNamespace\": \"http://data.jrc.ec.europa.eu/ontology/cybersecurity/\"})\n"
   ]
  },
  {
   "cell_type": "code",
   "execution_count": null,
   "id": "5d28d622",
   "metadata": {},
   "outputs": [],
   "source": [
    "t_graph.serialize(\"P:\\\\projects\\\\rdf-data\\\\taxonomies\\\\cybersecurity-taxonomy-skos-ap-eu-from-tbx.ttl\", format=\"turtle\")"
   ]
  },
  {
   "cell_type": "code",
   "execution_count": null,
   "id": "1614ddad",
   "metadata": {},
   "outputs": [],
   "source": [
    "g = rdflib.Graph()\n",
    "g.parse(\"H:\\\\30_code\\\\python\\\\termate\\\\notebooks\\\\doc.log\", format=\"turtle\")"
   ]
  },
  {
   "cell_type": "code",
   "execution_count": null,
   "id": "f6945baa",
   "metadata": {},
   "outputs": [],
   "source": []
  }
 ],
 "metadata": {
  "kernelspec": {
   "display_name": "Python 3",
   "language": "python",
   "name": "python3"
  },
  "language_info": {
   "codemirror_mode": {
    "name": "ipython",
    "version": 3
   },
   "file_extension": ".py",
   "mimetype": "text/x-python",
   "name": "python",
   "nbconvert_exporter": "python",
   "pygments_lexer": "ipython3",
   "version": "3.7.4"
  }
 },
 "nbformat": 4,
 "nbformat_minor": 5
}
