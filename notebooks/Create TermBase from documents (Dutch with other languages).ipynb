{
 "cells": [
  {
   "cell_type": "code",
   "execution_count": null,
   "metadata": {},
   "outputs": [],
   "source": [
    "import sys\n",
    "import termate\n",
    "import nafigator\n",
    "import stanza\n",
    "import os\n",
    "import logging"
   ]
  },
  {
   "cell_type": "code",
   "execution_count": null,
   "metadata": {},
   "outputs": [],
   "source": [
    "logging.basicConfig(stream=sys.stdout,\n",
    "                    format='%(asctime)s %(message)s',\n",
    "                    level=logging.INFO)\n",
    "nlp = {\"nl\": stanza.Pipeline(\"nl\", processors='tokenize,pos', verbose=False), \n",
    "       \"en\": stanza.Pipeline(\"en\", processors='tokenize,pos', verbose=False)}"
   ]
  },
  {
   "cell_type": "code",
   "execution_count": null,
   "metadata": {},
   "outputs": [],
   "source": [
    "# read the IATE file\n",
    "IATE_FILE = os.path.join(\"P:\", \"projects\", \"tbx-data\", \"iate\", \"IATE_export_small.tbx\")\n",
    "ref = termate.TbxDocument().open(IATE_FILE)\n",
    "# read the lassy file\n",
    "LASSY_FILE = os.path.join(\"P:\", \"projects\", \"tbx-data\", \"lassy\", \"lassy_with_insurance.tbx\")\n",
    "lassy = termate.TbxDocument().open(LASSY_FILE)"
   ]
  },
  {
   "cell_type": "code",
   "execution_count": null,
   "metadata": {},
   "outputs": [],
   "source": [
    "def merge_terms_dict(a, b):\n",
    "    for key in b.keys():\n",
    "        if key in a.keys() and a[key]['dc:language']==b[key]['dc:language']:\n",
    "            for item in b[key]['dc:uri']:\n",
    "                a[key]['dc:uri'].append(item)\n",
    "            for item in b[key]['frequency']:\n",
    "                a[key]['frequency'].append(item)\n",
    "        else:\n",
    "            a[key] = {}\n",
    "            for b_key in b[key].keys():\n",
    "                a[key][b_key] = b[key][b_key]"
   ]
  },
  {
   "cell_type": "code",
   "execution_count": null,
   "metadata": {},
   "outputs": [],
   "source": [
    "# Create an empty TermBase\n",
    "t = termate.TbxDocument()\n",
    "t.generate(params = {\"sourceDesc\": \"TBX file, created via dnb/termate\"})"
   ]
  },
  {
   "cell_type": "code",
   "execution_count": null,
   "metadata": {
    "scrolled": true
   },
   "outputs": [],
   "source": [
    "# termNotes = {\"normativeAuthorization\": \"regulatedTerm\", \n",
    "#              \"authoritative body\": \"European Union\"}\n",
    "termNotes = {}\n",
    "\n",
    "names = ['Solvency 2 Directive',\n",
    "         'Solvency 2 Delegated Acts', \n",
    "         'European Climate Law', \n",
    "         'Sustainable Finance Disclosure Regulation']\n",
    "\n",
    "# create terms dictionary of subset of languages\n",
    "terms = {}\n",
    "\n",
    "for name in names:\n",
    "    for language in ['NL', 'EN', 'DE', 'FR']:\n",
    "        DOC_FILE = os.path.join(\"P:\", \"projects\", \"naf-data\", \"data\", \"legislation\", name, name+\" - \"+language+\".naf.xml\")\n",
    "        doc = nafigator.NafDocument().open(DOC_FILE)\n",
    "        if doc.language==\"nl\":\n",
    "            nafigator.glue_terms_separated_by_soft_hyphens(doc, \"nl\", nlp)\n",
    "            nafigator.glue_terms_separated_by_hard_hyphens(doc, \"nl\", nlp)\n",
    "        merge_terms_dict(terms, nafigator.extract_terms(doc, termNotes = termNotes))"
   ]
  },
  {
   "cell_type": "code",
   "execution_count": null,
   "metadata": {},
   "outputs": [],
   "source": [
    "name = \"legislation\""
   ]
  },
  {
   "cell_type": "code",
   "execution_count": null,
   "metadata": {},
   "outputs": [],
   "source": [
    "t.create_tbx_from_terms_dict(terms=terms)\n",
    "# t.write(os.path.join(\"P:\", \"projects\", \"tbx-data\", \"termbases\", name+\".tbx\"))"
   ]
  },
  {
   "cell_type": "code",
   "execution_count": null,
   "metadata": {
    "scrolled": true
   },
   "outputs": [],
   "source": [
    "t.add_termnotes_from_tbx(reference=lassy, params={'number_of_word_components': 5})\n",
    "# t.write(os.path.join(\"P:\", \"projects\", \"tbx-data\", \"termbases\", name+\".tbx\"))"
   ]
  },
  {
   "cell_type": "code",
   "execution_count": null,
   "metadata": {},
   "outputs": [],
   "source": [
    "t.copy_from_tbx(reference=ref)\n",
    "t.write(os.path.join(\"P:\", \"projects\", \"tbx-data\", \"termbases\", name+\".tbx\"))"
   ]
  },
  {
   "cell_type": "code",
   "execution_count": null,
   "metadata": {
    "scrolled": true
   },
   "outputs": [],
   "source": [
    "# t = termate.TbxDocument().open(os.path.join(\"P:\", \"projects\", \"tbx-data\", \"termbases\", name+\".tbx\"))\n",
    "# t.validate(validation_file=os.path.join(\"..\", \"data\", \"dialects\", \"TBX-DNB.rng\")"
   ]
  },
  {
   "cell_type": "code",
   "execution_count": null,
   "metadata": {},
   "outputs": [],
   "source": [
    "t = termate.TbxDocument().open(os.path.join(\"P:\", \"projects\", \"tbx-data\", \"termbases\", name+\".tbx\"))\n",
    "t.to_excel(os.path.join(\"P:\", \"projects\", \"tbx-data\", \"termbases\", name+\".xlsx\"), languages=[\"en\", \"nl\"])"
   ]
  },
  {
   "cell_type": "code",
   "execution_count": null,
   "metadata": {},
   "outputs": [],
   "source": []
  }
 ],
 "metadata": {
  "kernelspec": {
   "display_name": "Python 3 (ipykernel)",
   "language": "python",
   "name": "python3"
  },
  "language_info": {
   "codemirror_mode": {
    "name": "ipython",
    "version": 3
   },
   "file_extension": ".py",
   "mimetype": "text/x-python",
   "name": "python",
   "nbconvert_exporter": "python",
   "pygments_lexer": "ipython3",
   "version": "3.7.2"
  }
 },
 "nbformat": 4,
 "nbformat_minor": 4
}
